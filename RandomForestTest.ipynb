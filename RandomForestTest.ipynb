{
 "cells": [
  {
   "cell_type": "markdown",
   "metadata": {},
   "source": [
    "## Setup"
   ]
  },
  {
   "cell_type": "code",
   "execution_count": 1,
   "metadata": {},
   "outputs": [],
   "source": [
    "import numpy as np\n",
    "import pandas as pd\n",
    "from sklearn.ensemble import RandomForestClassifier\n",
    "from sklearn.model_selection import train_test_split\n",
    "import random"
   ]
  },
  {
   "cell_type": "code",
   "execution_count": 2,
   "metadata": {},
   "outputs": [
    {
     "data": {
      "text/html": [
       "<div>\n",
       "<style scoped>\n",
       "    .dataframe tbody tr th:only-of-type {\n",
       "        vertical-align: middle;\n",
       "    }\n",
       "\n",
       "    .dataframe tbody tr th {\n",
       "        vertical-align: top;\n",
       "    }\n",
       "\n",
       "    .dataframe thead th {\n",
       "        text-align: right;\n",
       "    }\n",
       "</style>\n",
       "<table border=\"1\" class=\"dataframe\">\n",
       "  <thead>\n",
       "    <tr style=\"text-align: right;\">\n",
       "      <th></th>\n",
       "      <th>Inn</th>\n",
       "      <th>AB</th>\n",
       "      <th>Pitch</th>\n",
       "      <th>Pitcher</th>\n",
       "      <th>Batter</th>\n",
       "      <th>Type</th>\n",
       "      <th>Pitch Spd</th>\n",
       "      <th>Result</th>\n",
       "      <th>Hit Spd</th>\n",
       "    </tr>\n",
       "  </thead>\n",
       "  <tbody>\n",
       "    <tr>\n",
       "      <th>0</th>\n",
       "      <td>1</td>\n",
       "      <td>1</td>\n",
       "      <td>1</td>\n",
       "      <td>Jared Horn</td>\n",
       "      <td>Jake Ortega</td>\n",
       "      <td>2 Seam</td>\n",
       "      <td>93.7</td>\n",
       "      <td>Ball</td>\n",
       "      <td>-</td>\n",
       "    </tr>\n",
       "    <tr>\n",
       "      <th>1</th>\n",
       "      <td>1</td>\n",
       "      <td>1</td>\n",
       "      <td>2</td>\n",
       "      <td>Jared Horn</td>\n",
       "      <td>Jake Ortega</td>\n",
       "      <td>2 Seam</td>\n",
       "      <td>93.4</td>\n",
       "      <td>Called Strike</td>\n",
       "      <td>-</td>\n",
       "    </tr>\n",
       "    <tr>\n",
       "      <th>2</th>\n",
       "      <td>1</td>\n",
       "      <td>1</td>\n",
       "      <td>3</td>\n",
       "      <td>Jared Horn</td>\n",
       "      <td>Jake Ortega</td>\n",
       "      <td>2 Seam</td>\n",
       "      <td>92.7</td>\n",
       "      <td>Swinging Strike</td>\n",
       "      <td>-</td>\n",
       "    </tr>\n",
       "    <tr>\n",
       "      <th>3</th>\n",
       "      <td>1</td>\n",
       "      <td>1</td>\n",
       "      <td>4</td>\n",
       "      <td>Jared Horn</td>\n",
       "      <td>Jake Ortega</td>\n",
       "      <td>2 Seam</td>\n",
       "      <td>93.4</td>\n",
       "      <td>Ball</td>\n",
       "      <td>-</td>\n",
       "    </tr>\n",
       "    <tr>\n",
       "      <th>4</th>\n",
       "      <td>1</td>\n",
       "      <td>1</td>\n",
       "      <td>5</td>\n",
       "      <td>Jared Horn</td>\n",
       "      <td>Jake Ortega</td>\n",
       "      <td>2 Seam</td>\n",
       "      <td>93.7</td>\n",
       "      <td>Swinging Strike</td>\n",
       "      <td>-</td>\n",
       "    </tr>\n",
       "  </tbody>\n",
       "</table>\n",
       "</div>"
      ],
      "text/plain": [
       "   Inn  AB  Pitch     Pitcher       Batter    Type  Pitch Spd  \\\n",
       "0    1   1      1  Jared Horn  Jake Ortega  2 Seam       93.7   \n",
       "1    1   1      2  Jared Horn  Jake Ortega  2 Seam       93.4   \n",
       "2    1   1      3  Jared Horn  Jake Ortega  2 Seam       92.7   \n",
       "3    1   1      4  Jared Horn  Jake Ortega  2 Seam       93.4   \n",
       "4    1   1      5  Jared Horn  Jake Ortega  2 Seam       93.7   \n",
       "\n",
       "            Result Hit Spd  \n",
       "0             Ball       -  \n",
       "1    Called Strike       -  \n",
       "2  Swinging Strike       -  \n",
       "3             Ball       -  \n",
       "4  Swinging Strike       -  "
      ]
     },
     "execution_count": 2,
     "metadata": {},
     "output_type": "execute_result"
    }
   ],
   "source": [
    "cal_2_23 = pd.read_csv('./cal_home_data/2018 - 2.23 CSU Bakersfield.csv')\n",
    "cal_2_23.head()"
   ]
  },
  {
   "cell_type": "code",
   "execution_count": 3,
   "metadata": {},
   "outputs": [
    {
     "data": {
      "text/plain": [
       "['2018 - 2.25 CSU Bakersfield.csv',\n",
       " '2018 - 3.27 UCD.csv',\n",
       " '2018 - 4.07 Utah game 2.csv',\n",
       " '2018 - 5.13 Arizona.csv',\n",
       " '2018 - 3.17 Oregon st.csv',\n",
       " '2018 - 4.07 Utah game 1.csv',\n",
       " '2018 - 3.11 Brown.csv',\n",
       " '2018 - 4.21 UW.csv',\n",
       " '2018 - 4.24 Sacramento State.csv',\n",
       " '2018 - 2.23 CSU Bakersfield.csv',\n",
       " '2018 - 3.06 Xavier.csv',\n",
       " '2018 - 3.31 UCLA.csv',\n",
       " '2018 - 3.30 UCLA.csv',\n",
       " '2018 - 3.10 Brown.csv',\n",
       " '2018 - 5.12 Arizona.csv',\n",
       " '2018 - 4.05 Utah.csv',\n",
       " '2018 - 2.24 CSU Bakersfield game 1.csv',\n",
       " '2018 - 4.20 UW.csv',\n",
       " '2018 - 3.09 Brown game 1.csv',\n",
       " '2018 - 3.18 Oregon st.csv',\n",
       " '2018 - 3.29 UCLA.csv',\n",
       " '2018 - 2.24 CSU Bakersfield game 2.csv',\n",
       " '2018 - 3.09 Brown game 2.csv',\n",
       " '2018 - 3.16 Oregon st.csv',\n",
       " '2018 - 4.17 SCU.csv',\n",
       " '2018 - 4.10 USF.csv',\n",
       " '2018 - 5.11 Arizona.csv',\n",
       " '2018 - 5.01 BYU.csv']"
      ]
     },
     "execution_count": 3,
     "metadata": {},
     "output_type": "execute_result"
    }
   ],
   "source": [
    "from os import listdir\n",
    "from os.path import isfile, join\n",
    "mypath = './cal_home_data/'\n",
    "files = [f for f in listdir(mypath) if isfile(join(mypath, f))]\n",
    "files"
   ]
  },
  {
   "cell_type": "code",
   "execution_count": 4,
   "metadata": {},
   "outputs": [],
   "source": [
    "#create list of game dataframes\n",
    "index = 0\n",
    "games = []\n",
    "for f in files:\n",
    "    path = './cal_home_data/' + f\n",
    "    df = pd.read_csv(path)\n",
    "    games.append(df)"
   ]
  },
  {
   "cell_type": "code",
   "execution_count": 5,
   "metadata": {},
   "outputs": [
    {
     "data": {
      "text/html": [
       "<div>\n",
       "<style scoped>\n",
       "    .dataframe tbody tr th:only-of-type {\n",
       "        vertical-align: middle;\n",
       "    }\n",
       "\n",
       "    .dataframe tbody tr th {\n",
       "        vertical-align: top;\n",
       "    }\n",
       "\n",
       "    .dataframe thead th {\n",
       "        text-align: right;\n",
       "    }\n",
       "</style>\n",
       "<table border=\"1\" class=\"dataframe\">\n",
       "  <thead>\n",
       "    <tr style=\"text-align: right;\">\n",
       "      <th></th>\n",
       "      <th>Inn</th>\n",
       "      <th>AB</th>\n",
       "      <th>Pitch</th>\n",
       "      <th>Pitcher</th>\n",
       "      <th>Batter</th>\n",
       "      <th>Type</th>\n",
       "      <th>Pitch Spd</th>\n",
       "      <th>Result</th>\n",
       "      <th>Hit Spd</th>\n",
       "    </tr>\n",
       "  </thead>\n",
       "  <tbody>\n",
       "    <tr>\n",
       "      <th>0</th>\n",
       "      <td>1</td>\n",
       "      <td>1</td>\n",
       "      <td>1</td>\n",
       "      <td>Matt Ladrech</td>\n",
       "      <td>Mark Pena</td>\n",
       "      <td>4 Seam</td>\n",
       "      <td>81.7</td>\n",
       "      <td>Hit Into Play - Out</td>\n",
       "      <td>-</td>\n",
       "    </tr>\n",
       "    <tr>\n",
       "      <th>1</th>\n",
       "      <td>1</td>\n",
       "      <td>2</td>\n",
       "      <td>1</td>\n",
       "      <td>Matt Ladrech</td>\n",
       "      <td>Noah Barba</td>\n",
       "      <td>Cutter</td>\n",
       "      <td>69.1</td>\n",
       "      <td>Ball</td>\n",
       "      <td>-</td>\n",
       "    </tr>\n",
       "    <tr>\n",
       "      <th>2</th>\n",
       "      <td>1</td>\n",
       "      <td>2</td>\n",
       "      <td>2</td>\n",
       "      <td>Matt Ladrech</td>\n",
       "      <td>Noah Barba</td>\n",
       "      <td>4 Seam</td>\n",
       "      <td>81.6</td>\n",
       "      <td>Foul</td>\n",
       "      <td>-</td>\n",
       "    </tr>\n",
       "    <tr>\n",
       "      <th>3</th>\n",
       "      <td>1</td>\n",
       "      <td>2</td>\n",
       "      <td>3</td>\n",
       "      <td>Matt Ladrech</td>\n",
       "      <td>Noah Barba</td>\n",
       "      <td>Slider</td>\n",
       "      <td>70.8</td>\n",
       "      <td>Ball</td>\n",
       "      <td>-</td>\n",
       "    </tr>\n",
       "    <tr>\n",
       "      <th>4</th>\n",
       "      <td>1</td>\n",
       "      <td>2</td>\n",
       "      <td>4</td>\n",
       "      <td>Matt Ladrech</td>\n",
       "      <td>Noah Barba</td>\n",
       "      <td>Changeup</td>\n",
       "      <td>80.3</td>\n",
       "      <td>Hit Into Play - Out</td>\n",
       "      <td>-</td>\n",
       "    </tr>\n",
       "  </tbody>\n",
       "</table>\n",
       "</div>"
      ],
      "text/plain": [
       "   Inn  AB  Pitch       Pitcher      Batter      Type  Pitch Spd  \\\n",
       "0    1   1      1  Matt Ladrech   Mark Pena    4 Seam       81.7   \n",
       "1    1   2      1  Matt Ladrech  Noah Barba    Cutter       69.1   \n",
       "2    1   2      2  Matt Ladrech  Noah Barba    4 Seam       81.6   \n",
       "3    1   2      3  Matt Ladrech  Noah Barba    Slider       70.8   \n",
       "4    1   2      4  Matt Ladrech  Noah Barba  Changeup       80.3   \n",
       "\n",
       "                Result Hit Spd  \n",
       "0  Hit Into Play - Out       -  \n",
       "1                 Ball       -  \n",
       "2                 Foul       -  \n",
       "3                 Ball       -  \n",
       "4  Hit Into Play - Out       -  "
      ]
     },
     "execution_count": 5,
     "metadata": {},
     "output_type": "execute_result"
    }
   ],
   "source": [
    "cal_games_2018 = pd.concat(games)\n",
    "cal_games_2018.head()"
   ]
  },
  {
   "cell_type": "code",
   "execution_count": 6,
   "metadata": {},
   "outputs": [
    {
     "data": {
      "text/plain": [
       "(8445, 9)"
      ]
     },
     "execution_count": 6,
     "metadata": {},
     "output_type": "execute_result"
    }
   ],
   "source": [
    "cal_games_2018.shape"
   ]
  },
  {
   "cell_type": "code",
   "execution_count": 7,
   "metadata": {},
   "outputs": [
    {
     "data": {
      "text/plain": [
       "8445"
      ]
     },
     "execution_count": 7,
     "metadata": {},
     "output_type": "execute_result"
    }
   ],
   "source": [
    "len(cal_games_2018)"
   ]
  },
  {
   "cell_type": "code",
   "execution_count": 8,
   "metadata": {},
   "outputs": [
    {
     "data": {
      "text/html": [
       "<div>\n",
       "<style scoped>\n",
       "    .dataframe tbody tr th:only-of-type {\n",
       "        vertical-align: middle;\n",
       "    }\n",
       "\n",
       "    .dataframe tbody tr th {\n",
       "        vertical-align: top;\n",
       "    }\n",
       "\n",
       "    .dataframe thead th {\n",
       "        text-align: right;\n",
       "    }\n",
       "</style>\n",
       "<table border=\"1\" class=\"dataframe\">\n",
       "  <thead>\n",
       "    <tr style=\"text-align: right;\">\n",
       "      <th></th>\n",
       "      <th>Unif</th>\n",
       "      <th>Player</th>\n",
       "      <th>Th</th>\n",
       "      <th>Age</th>\n",
       "      <th>W</th>\n",
       "      <th>L</th>\n",
       "      <th>ERA</th>\n",
       "      <th>G</th>\n",
       "      <th>GS</th>\n",
       "      <th>GR</th>\n",
       "      <th>...</th>\n",
       "      <th>BK</th>\n",
       "      <th>HB</th>\n",
       "      <th>WHIP</th>\n",
       "      <th>H9</th>\n",
       "      <th>HR9</th>\n",
       "      <th>BB9</th>\n",
       "      <th>SO9</th>\n",
       "      <th>K-BB</th>\n",
       "      <th>RA9</th>\n",
       "      <th>WPct</th>\n",
       "    </tr>\n",
       "  </thead>\n",
       "  <tbody>\n",
       "    <tr>\n",
       "      <th>0</th>\n",
       "      <td>35</td>\n",
       "      <td>Aaron Shortridge</td>\n",
       "      <td>R</td>\n",
       "      <td>21</td>\n",
       "      <td>5</td>\n",
       "      <td>3</td>\n",
       "      <td>2.77</td>\n",
       "      <td>17</td>\n",
       "      <td>12</td>\n",
       "      <td>5</td>\n",
       "      <td>...</td>\n",
       "      <td>1</td>\n",
       "      <td>0</td>\n",
       "      <td>1.13</td>\n",
       "      <td>8.80</td>\n",
       "      <td>0.59</td>\n",
       "      <td>1.38</td>\n",
       "      <td>7.32</td>\n",
       "      <td>5.29</td>\n",
       "      <td>2.97</td>\n",
       "      <td>0.625</td>\n",
       "    </tr>\n",
       "    <tr>\n",
       "      <th>1</th>\n",
       "      <td>24</td>\n",
       "      <td>Matt Ladrech</td>\n",
       "      <td>L</td>\n",
       "      <td>22</td>\n",
       "      <td>7</td>\n",
       "      <td>5</td>\n",
       "      <td>5.12</td>\n",
       "      <td>15</td>\n",
       "      <td>15</td>\n",
       "      <td>0</td>\n",
       "      <td>...</td>\n",
       "      <td>0</td>\n",
       "      <td>0</td>\n",
       "      <td>1.52</td>\n",
       "      <td>12.10</td>\n",
       "      <td>0.81</td>\n",
       "      <td>1.51</td>\n",
       "      <td>6.17</td>\n",
       "      <td>4.08</td>\n",
       "      <td>6.28</td>\n",
       "      <td>0.583</td>\n",
       "    </tr>\n",
       "    <tr>\n",
       "      <th>2</th>\n",
       "      <td>21</td>\n",
       "      <td>Jared Horn</td>\n",
       "      <td>R</td>\n",
       "      <td>19</td>\n",
       "      <td>5</td>\n",
       "      <td>5</td>\n",
       "      <td>6.15</td>\n",
       "      <td>15</td>\n",
       "      <td>15</td>\n",
       "      <td>0</td>\n",
       "      <td>...</td>\n",
       "      <td>3</td>\n",
       "      <td>0</td>\n",
       "      <td>1.71</td>\n",
       "      <td>10.17</td>\n",
       "      <td>0.50</td>\n",
       "      <td>5.15</td>\n",
       "      <td>6.53</td>\n",
       "      <td>1.27</td>\n",
       "      <td>7.53</td>\n",
       "      <td>0.500</td>\n",
       "    </tr>\n",
       "    <tr>\n",
       "      <th>3</th>\n",
       "      <td>16</td>\n",
       "      <td>Joey Matulovich</td>\n",
       "      <td>R</td>\n",
       "      <td>20</td>\n",
       "      <td>1</td>\n",
       "      <td>1</td>\n",
       "      <td>3.47</td>\n",
       "      <td>19</td>\n",
       "      <td>5</td>\n",
       "      <td>14</td>\n",
       "      <td>...</td>\n",
       "      <td>0</td>\n",
       "      <td>0</td>\n",
       "      <td>1.43</td>\n",
       "      <td>7.91</td>\n",
       "      <td>0.96</td>\n",
       "      <td>4.82</td>\n",
       "      <td>8.68</td>\n",
       "      <td>1.80</td>\n",
       "      <td>4.44</td>\n",
       "      <td>0.500</td>\n",
       "    </tr>\n",
       "    <tr>\n",
       "      <th>4</th>\n",
       "      <td>40</td>\n",
       "      <td>Arman Sabouri</td>\n",
       "      <td>L</td>\n",
       "      <td>20</td>\n",
       "      <td>5</td>\n",
       "      <td>2</td>\n",
       "      <td>3.07</td>\n",
       "      <td>20</td>\n",
       "      <td>0</td>\n",
       "      <td>20</td>\n",
       "      <td>...</td>\n",
       "      <td>0</td>\n",
       "      <td>0</td>\n",
       "      <td>0.86</td>\n",
       "      <td>5.52</td>\n",
       "      <td>0.41</td>\n",
       "      <td>2.25</td>\n",
       "      <td>9.82</td>\n",
       "      <td>4.36</td>\n",
       "      <td>3.48</td>\n",
       "      <td>0.714</td>\n",
       "    </tr>\n",
       "  </tbody>\n",
       "</table>\n",
       "<p>5 rows × 32 columns</p>\n",
       "</div>"
      ],
      "text/plain": [
       "   Unif            Player Th  Age  W  L   ERA   G  GS  GR  ...    BK  HB  \\\n",
       "0    35  Aaron Shortridge  R   21  5  3  2.77  17  12   5  ...     1   0   \n",
       "1    24      Matt Ladrech  L   22  7  5  5.12  15  15   0  ...     0   0   \n",
       "2    21        Jared Horn  R   19  5  5  6.15  15  15   0  ...     3   0   \n",
       "3    16   Joey Matulovich  R   20  1  1  3.47  19   5  14  ...     0   0   \n",
       "4    40     Arman Sabouri  L   20  5  2  3.07  20   0  20  ...     0   0   \n",
       "\n",
       "   WHIP     H9   HR9   BB9   SO9  K-BB   RA9   WPct  \n",
       "0  1.13   8.80  0.59  1.38  7.32  5.29  2.97  0.625  \n",
       "1  1.52  12.10  0.81  1.51  6.17  4.08  6.28  0.583  \n",
       "2  1.71  10.17  0.50  5.15  6.53  1.27  7.53  0.500  \n",
       "3  1.43   7.91  0.96  4.82  8.68  1.80  4.44  0.500  \n",
       "4  0.86   5.52  0.41  2.25  9.82  4.36  3.48  0.714  \n",
       "\n",
       "[5 rows x 32 columns]"
      ]
     },
     "execution_count": 8,
     "metadata": {},
     "output_type": "execute_result"
    }
   ],
   "source": [
    "cal_pitchers = pd.read_csv('./Cal_Pitching_2018.csv')\n",
    "cal_pitchers = cal_pitchers.iloc[:, :-2]\n",
    "cal_pitchers.head()"
   ]
  },
  {
   "cell_type": "code",
   "execution_count": 9,
   "metadata": {},
   "outputs": [
    {
     "data": {
      "text/html": [
       "<div>\n",
       "<style scoped>\n",
       "    .dataframe tbody tr th:only-of-type {\n",
       "        vertical-align: middle;\n",
       "    }\n",
       "\n",
       "    .dataframe tbody tr th {\n",
       "        vertical-align: top;\n",
       "    }\n",
       "\n",
       "    .dataframe thead th {\n",
       "        text-align: right;\n",
       "    }\n",
       "</style>\n",
       "<table border=\"1\" class=\"dataframe\">\n",
       "  <thead>\n",
       "    <tr style=\"text-align: right;\">\n",
       "      <th></th>\n",
       "      <th>Inn</th>\n",
       "      <th>AB</th>\n",
       "      <th>Pitch</th>\n",
       "      <th>Pitcher</th>\n",
       "      <th>Batter</th>\n",
       "      <th>Type</th>\n",
       "      <th>Pitch Spd</th>\n",
       "      <th>Result</th>\n",
       "      <th>Hit Spd</th>\n",
       "    </tr>\n",
       "  </thead>\n",
       "  <tbody>\n",
       "    <tr>\n",
       "      <th>0</th>\n",
       "      <td>1</td>\n",
       "      <td>1</td>\n",
       "      <td>1</td>\n",
       "      <td>Matt Ladrech</td>\n",
       "      <td>Mark Pena</td>\n",
       "      <td>4 Seam</td>\n",
       "      <td>81.7</td>\n",
       "      <td>Hit Into Play - Out</td>\n",
       "      <td>-</td>\n",
       "    </tr>\n",
       "    <tr>\n",
       "      <th>1</th>\n",
       "      <td>1</td>\n",
       "      <td>2</td>\n",
       "      <td>1</td>\n",
       "      <td>Matt Ladrech</td>\n",
       "      <td>Noah Barba</td>\n",
       "      <td>Cutter</td>\n",
       "      <td>69.1</td>\n",
       "      <td>Ball</td>\n",
       "      <td>-</td>\n",
       "    </tr>\n",
       "    <tr>\n",
       "      <th>2</th>\n",
       "      <td>1</td>\n",
       "      <td>2</td>\n",
       "      <td>2</td>\n",
       "      <td>Matt Ladrech</td>\n",
       "      <td>Noah Barba</td>\n",
       "      <td>4 Seam</td>\n",
       "      <td>81.6</td>\n",
       "      <td>Foul</td>\n",
       "      <td>-</td>\n",
       "    </tr>\n",
       "    <tr>\n",
       "      <th>3</th>\n",
       "      <td>1</td>\n",
       "      <td>2</td>\n",
       "      <td>3</td>\n",
       "      <td>Matt Ladrech</td>\n",
       "      <td>Noah Barba</td>\n",
       "      <td>Slider</td>\n",
       "      <td>70.8</td>\n",
       "      <td>Ball</td>\n",
       "      <td>-</td>\n",
       "    </tr>\n",
       "    <tr>\n",
       "      <th>4</th>\n",
       "      <td>1</td>\n",
       "      <td>2</td>\n",
       "      <td>4</td>\n",
       "      <td>Matt Ladrech</td>\n",
       "      <td>Noah Barba</td>\n",
       "      <td>Changeup</td>\n",
       "      <td>80.3</td>\n",
       "      <td>Hit Into Play - Out</td>\n",
       "      <td>-</td>\n",
       "    </tr>\n",
       "  </tbody>\n",
       "</table>\n",
       "</div>"
      ],
      "text/plain": [
       "   Inn  AB  Pitch       Pitcher      Batter      Type  Pitch Spd  \\\n",
       "0    1   1      1  Matt Ladrech   Mark Pena    4 Seam       81.7   \n",
       "1    1   2      1  Matt Ladrech  Noah Barba    Cutter       69.1   \n",
       "2    1   2      2  Matt Ladrech  Noah Barba    4 Seam       81.6   \n",
       "3    1   2      3  Matt Ladrech  Noah Barba    Slider       70.8   \n",
       "4    1   2      4  Matt Ladrech  Noah Barba  Changeup       80.3   \n",
       "\n",
       "                Result Hit Spd  \n",
       "0  Hit Into Play - Out       -  \n",
       "1                 Ball       -  \n",
       "2                 Foul       -  \n",
       "3                 Ball       -  \n",
       "4  Hit Into Play - Out       -  "
      ]
     },
     "execution_count": 9,
     "metadata": {},
     "output_type": "execute_result"
    }
   ],
   "source": [
    "#extract only cal_pitchers from cal_games\n",
    "cal_games_2018 = cal_games_2018[[p in cal_pitchers.values for p in cal_games_2018.Pitcher]].reset_index(drop=True)\n",
    "cal_games_2018.head()"
   ]
  },
  {
   "cell_type": "code",
   "execution_count": 10,
   "metadata": {},
   "outputs": [
    {
     "data": {
      "text/plain": [
       "array(['Matt Ladrech', 'Erik Martinez', 'Aaron Shortridge',\n",
       "       'Rogelio Reyes', 'Joey Matulovich', 'Andrew Buckley',\n",
       "       'Arman Sabouri', 'Tanner Dodson', 'Zayne Patino', 'Jared Horn',\n",
       "       'Conor Neumann', 'Korey Lee', 'Kevin Flemer', 'Connor Jackson',\n",
       "       'Carson Olson'], dtype=object)"
      ]
     },
     "execution_count": 10,
     "metadata": {},
     "output_type": "execute_result"
    }
   ],
   "source": [
    "cal_games_2018.Pitcher.unique()"
   ]
  },
  {
   "cell_type": "code",
   "execution_count": 11,
   "metadata": {},
   "outputs": [
    {
     "data": {
      "text/html": [
       "<div>\n",
       "<style scoped>\n",
       "    .dataframe tbody tr th:only-of-type {\n",
       "        vertical-align: middle;\n",
       "    }\n",
       "\n",
       "    .dataframe tbody tr th {\n",
       "        vertical-align: top;\n",
       "    }\n",
       "\n",
       "    .dataframe thead th {\n",
       "        text-align: right;\n",
       "    }\n",
       "</style>\n",
       "<table border=\"1\" class=\"dataframe\">\n",
       "  <thead>\n",
       "    <tr style=\"text-align: right;\">\n",
       "      <th></th>\n",
       "      <th>Inn</th>\n",
       "      <th>AB</th>\n",
       "      <th>Pitch</th>\n",
       "      <th>Pitcher</th>\n",
       "      <th>Batter</th>\n",
       "      <th>Type</th>\n",
       "      <th>Pitch Spd</th>\n",
       "      <th>Result</th>\n",
       "      <th>Hit Spd</th>\n",
       "    </tr>\n",
       "  </thead>\n",
       "  <tbody>\n",
       "    <tr>\n",
       "      <th>0</th>\n",
       "      <td>1</td>\n",
       "      <td>1</td>\n",
       "      <td>1</td>\n",
       "      <td>Jared Horn</td>\n",
       "      <td>Jake Ortega</td>\n",
       "      <td>2 Seam</td>\n",
       "      <td>93.7</td>\n",
       "      <td>Ball</td>\n",
       "      <td>-</td>\n",
       "    </tr>\n",
       "    <tr>\n",
       "      <th>1</th>\n",
       "      <td>1</td>\n",
       "      <td>1</td>\n",
       "      <td>2</td>\n",
       "      <td>Jared Horn</td>\n",
       "      <td>Jake Ortega</td>\n",
       "      <td>2 Seam</td>\n",
       "      <td>93.4</td>\n",
       "      <td>Called Strike</td>\n",
       "      <td>-</td>\n",
       "    </tr>\n",
       "    <tr>\n",
       "      <th>2</th>\n",
       "      <td>1</td>\n",
       "      <td>1</td>\n",
       "      <td>3</td>\n",
       "      <td>Jared Horn</td>\n",
       "      <td>Jake Ortega</td>\n",
       "      <td>2 Seam</td>\n",
       "      <td>92.7</td>\n",
       "      <td>Swinging Strike</td>\n",
       "      <td>-</td>\n",
       "    </tr>\n",
       "    <tr>\n",
       "      <th>3</th>\n",
       "      <td>1</td>\n",
       "      <td>1</td>\n",
       "      <td>4</td>\n",
       "      <td>Jared Horn</td>\n",
       "      <td>Jake Ortega</td>\n",
       "      <td>2 Seam</td>\n",
       "      <td>93.4</td>\n",
       "      <td>Ball</td>\n",
       "      <td>-</td>\n",
       "    </tr>\n",
       "    <tr>\n",
       "      <th>4</th>\n",
       "      <td>1</td>\n",
       "      <td>1</td>\n",
       "      <td>5</td>\n",
       "      <td>Jared Horn</td>\n",
       "      <td>Jake Ortega</td>\n",
       "      <td>2 Seam</td>\n",
       "      <td>93.7</td>\n",
       "      <td>Swinging Strike</td>\n",
       "      <td>-</td>\n",
       "    </tr>\n",
       "  </tbody>\n",
       "</table>\n",
       "</div>"
      ],
      "text/plain": [
       "   Inn  AB  Pitch     Pitcher       Batter    Type  Pitch Spd  \\\n",
       "0    1   1      1  Jared Horn  Jake Ortega  2 Seam       93.7   \n",
       "1    1   1      2  Jared Horn  Jake Ortega  2 Seam       93.4   \n",
       "2    1   1      3  Jared Horn  Jake Ortega  2 Seam       92.7   \n",
       "3    1   1      4  Jared Horn  Jake Ortega  2 Seam       93.4   \n",
       "4    1   1      5  Jared Horn  Jake Ortega  2 Seam       93.7   \n",
       "\n",
       "            Result Hit Spd  \n",
       "0             Ball       -  \n",
       "1    Called Strike       -  \n",
       "2  Swinging Strike       -  \n",
       "3             Ball       -  \n",
       "4  Swinging Strike       -  "
      ]
     },
     "execution_count": 11,
     "metadata": {},
     "output_type": "execute_result"
    }
   ],
   "source": [
    "cal_2_23.head()"
   ]
  },
  {
   "cell_type": "code",
   "execution_count": 12,
   "metadata": {},
   "outputs": [
    {
     "data": {
      "text/plain": [
       "array(['Ball', 'Called Strike', 'Swinging Strike', 'Hit By Pitch', 'Foul',\n",
       "       'Hit Into Play - Out', 'Hit Into Play',\n",
       "       'Hit Into Play - Run Scored', 'Foul Tip', 'catcher_interf',\n",
       "       'Intentional Ball', nan], dtype=object)"
      ]
     },
     "execution_count": 12,
     "metadata": {},
     "output_type": "execute_result"
    }
   ],
   "source": [
    "cal_2_23.Result.unique()"
   ]
  },
  {
   "cell_type": "code",
   "execution_count": 13,
   "metadata": {},
   "outputs": [
    {
     "data": {
      "text/plain": [
       "0     2.77\n",
       "1     5.12\n",
       "2     6.15\n",
       "3     3.47\n",
       "4     3.07\n",
       "5     2.48\n",
       "6     8.26\n",
       "7     3.54\n",
       "8     4.07\n",
       "9     5.50\n",
       "10    1.23\n",
       "11    0.00\n",
       "12    0.00\n",
       "13    9.00\n",
       "14    0.00\n",
       "15    0.00\n",
       "16    0.00\n",
       "Name: ERA, dtype: float64"
      ]
     },
     "execution_count": 13,
     "metadata": {},
     "output_type": "execute_result"
    }
   ],
   "source": [
    "cal_pitchers.ERA"
   ]
  },
  {
   "cell_type": "code",
   "execution_count": 14,
   "metadata": {},
   "outputs": [
    {
     "data": {
      "text/plain": [
       "Index(['Unif', 'Player', 'Th', 'Age', 'W', 'L', 'ERA', 'G', 'GS', 'GR', 'CG',\n",
       "       'SHO', 'GF', 'SV', 'IP', 'H', 'R', 'ER', 'HR', 'BB', 'SO', 'WP', 'BK',\n",
       "       'HB', 'WHIP', 'H9', 'HR9', 'BB9', 'SO9', 'K-BB', 'RA9', 'WPct'],\n",
       "      dtype='object')"
      ]
     },
     "execution_count": 14,
     "metadata": {},
     "output_type": "execute_result"
    }
   ],
   "source": [
    "cal_pitchers.columns"
   ]
  },
  {
   "cell_type": "code",
   "execution_count": 15,
   "metadata": {},
   "outputs": [
    {
     "data": {
      "text/plain": [
       "array(['Ball', 'Called Strike', 'Swinging Strike', 'Hit By Pitch', 'Foul',\n",
       "       'Hit Into Play - Out', 'Hit Into Play',\n",
       "       'Hit Into Play - Run Scored', 'Foul Tip', 'catcher_interf',\n",
       "       'Intentional Ball', nan], dtype=object)"
      ]
     },
     "execution_count": 15,
     "metadata": {},
     "output_type": "execute_result"
    }
   ],
   "source": [
    "cal_2_23.Result.unique()"
   ]
  },
  {
   "cell_type": "markdown",
   "metadata": {},
   "source": [
    "## Feature Engineering and EDA"
   ]
  },
  {
   "cell_type": "code",
   "execution_count": 16,
   "metadata": {},
   "outputs": [],
   "source": [
    "#Feature Engineering For DF given game and pitcher name\n",
    "#Creates Features # Hits Allowed, # Pitches Thrown, # On Base, # HR's Allowed vs typical ERA\n",
    "#and the Response(Pitcher Switched)\n",
    "def baseball_features(game, pitcher):\n",
    "    df = game\n",
    "    hits = []\n",
    "    pitch_counter = []\n",
    "    on_base = []\n",
    "    switch = []\n",
    "    innings_diff = []\n",
    "    runs_allowed = []\n",
    "    #Hit Counter Including the Current Pitch\n",
    "    for i in range(len(df)):\n",
    "        #check if pitcher was switched\n",
    "        if df.iloc[i,3] != df.iloc[i-1,3]:\n",
    "            if (df.iloc[i,7] == 'Hit Into Play') or (df.iloc[i,7] == 'Hit Into Play - Run Scored'):\n",
    "                hits.append(1)\n",
    "            else:\n",
    "                hits.append(0)\n",
    "        #check if it was a hit\n",
    "        elif (df.iloc[i,7] == 'Hit Into Play') or (df.iloc[i,7] == 'Hit Into Play - Run Scored'):\n",
    "            if i == 0:\n",
    "                hits.append(1)\n",
    "            else:\n",
    "                count = hits[-1] + 1\n",
    "                hits.append(count)\n",
    "        else:\n",
    "            if i == 0:\n",
    "                hits.append(0)\n",
    "            else:\n",
    "                count = hits[-1]\n",
    "                hits.append(count)\n",
    "                \n",
    "    #Pitch Counter Including Current Pitch\n",
    "    for i in range(len(df)):\n",
    "            if i == 0:\n",
    "                pitch_counter.append(1)\n",
    "            #check if pitcher was switched\n",
    "            elif (df.iloc[i, 3] != df.iloc[i-1,3]):\n",
    "                pitch_counter.append(1)\n",
    "            else:\n",
    "                count = pitch_counter[-1]\n",
    "                pitch_counter.append(count + 1)\n",
    "    \n",
    "    #Number On Base Feature\n",
    "    #Number Runs Allowed By Pitcher Feature\n",
    "    bases = [0,0,0]\n",
    "    current_runs_count=0\n",
    "    for i in range(len(df)):\n",
    "        #check if innings changed and reset the bases\n",
    "        if (df.iloc[i-1, 0] != df.iloc[i,0]) and i!=0:\n",
    "            bases = [0,0,0]\n",
    "        #check for hit\n",
    "        if i!=0:\n",
    "            current_runs_count = runs_allowed[-1]\n",
    "        if (df.iloc[i, 7] == 'Hit Into Play') or (df.iloc[i, 7] == 'Hit Into Play - Run Scored') :\n",
    "            #calculate if the hit was a single,double, triple or HR and the \n",
    "            #base outcome as a result of the hit\n",
    "            hit_type = random.random()\n",
    "            #check if pitcher was switched and reset count\n",
    "            if (df.iloc[i, 3] != df.iloc[i-1,3]):\n",
    "                current_runs_count = 0\n",
    "            #single\n",
    "            if hit_type <= 1/4:\n",
    "                runs = current_runs_count + bases[2]\n",
    "                runs_allowed.append(runs)\n",
    "                bases[2]=bases[1]\n",
    "                bases[1]=bases[0]\n",
    "                bases[0]=1\n",
    "                count = sum(bases)\n",
    "                on_base.append(count)\n",
    "            #double\n",
    "            elif hit_type <= 2/4:\n",
    "                runs = bases[2] + bases[1] + current_runs_count\n",
    "                runs_allowed.append(runs)\n",
    "                bases[2]=bases[0]\n",
    "                bases[1]=1\n",
    "                bases[0]=0\n",
    "                count = sum(bases)\n",
    "                on_base.append(count)\n",
    "            #triple\n",
    "            elif hit_type <= 3/4:\n",
    "                runs = sum(bases) + current_runs_count\n",
    "                runs_allowed.append(runs)\n",
    "                bases[0]=0\n",
    "                bases[1]=0\n",
    "                bases[2]=1\n",
    "                count = sum(bases)\n",
    "                on_base.append(count)\n",
    "            #HR\n",
    "            elif hit_type <= 1:\n",
    "                runs = sum(bases) + current_runs_count + 1\n",
    "                runs_allowed.append(runs)\n",
    "                bases=[0,0,0]\n",
    "                count = sum(bases)\n",
    "                on_base.append(count)\n",
    "        #check if hitter hit by pitch or Ball 4\n",
    "        elif df.iloc[i-1, 7] == 'Hit By Pitch'\\\n",
    "        or ((df.iloc[i-1, 7] == 'Ball' and (df.iloc[i-1, 4] != df.iloc[i, 4]))):\n",
    "            runs = current_runs_count + bases[2]\n",
    "            runs_allowed.append(runs)\n",
    "            bases[2]=bases[1]\n",
    "            bases[1]=bases[0]\n",
    "            bases[0]=1\n",
    "            count = sum(bases)\n",
    "            on_base.append(count)\n",
    "        #case where no base movements or runs happen\n",
    "        else:\n",
    "            runs = current_runs_count\n",
    "            runs_allowed.append(runs)\n",
    "            if i==0:\n",
    "                count = 0\n",
    "                on_base.append(count)\n",
    "            else:\n",
    "                count = on_base[-1]\n",
    "                on_base.append(count)\n",
    "    #calculate the ERA difference here\n",
    "    runs_allowed = float(cal_pitchers[cal_pitchers['Player'] == pitcher].ERA) - np.array(runs_allowed)\n",
    "                \n",
    "    #Average IP/Game - Current Innings Pitched Feature:\n",
    "    innings = [1]\n",
    "    for i in range(len(df)):\n",
    "        #check if this is the pitcher we care about\n",
    "        if df.iloc[i,3] != pitcher:\n",
    "            innings_diff.append(0)\n",
    "        else:\n",
    "            if df.iloc[i,0] != df.iloc[i-1,0]:\n",
    "                inning = innings[-1]+1\n",
    "                innings.append(inning)\n",
    "                average_IP = cal_pitchers[cal_pitchers['Player'] == pitcher].IP\\\n",
    "                    /cal_pitchers[cal_pitchers['Player'] == pitcher].G\n",
    "                diff = float(average_IP) - inning\n",
    "                innings_diff.append(diff)\n",
    "            else:\n",
    "                inning = innings[-1]\n",
    "                average_IP = cal_pitchers[cal_pitchers['Player'] == pitcher].IP\\\n",
    "                    /cal_pitchers[cal_pitchers['Player'] == pitcher].G\n",
    "                diff = float(average_IP) - inning\n",
    "                innings_diff.append(diff)\n",
    "    \n",
    "    #add response variable: Was the Pitcher Switched After Current Pitch\n",
    "    for i in range(len(df)):\n",
    "        if i == len(df) - 1:\n",
    "            switch.append(0)\n",
    "        else:\n",
    "            if df.iloc[i, 3] != df.iloc[i+1, 3]:\n",
    "                switch.append(1)\n",
    "            else:\n",
    "                switch.append(0)\n",
    "\n",
    "    #add columns to df\n",
    "    df['Number_On_Base'] = pd.Series(on_base)\n",
    "    df['Number_Runs_Allowed_diff'] = pd.Series(runs_allowed)\n",
    "    df['Pitches_Thrown'] = pd.Series(pitch_counter)\n",
    "    df['Hits_Allowed'] = pd.Series(hits)\n",
    "    df['Average_IP_diff'] = pd.Series(innings_diff)\n",
    "    df['Switch_Pitcher'] = pd.Series(switch)\n",
    "    df = df.loc[df['Pitcher'] == pitcher].reset_index(drop=True)\n",
    "    return df"
   ]
  },
  {
   "cell_type": "code",
   "execution_count": 17,
   "metadata": {},
   "outputs": [],
   "source": [
    "#Given a Pitcher, accumulate all the play-by-play data with the new features to pass into algo\n",
    "def cal_2018_pitcher_df(pitcher):\n",
    "    #create list of game dataframes for purpose of creating Pitcher Specific Game DF\n",
    "    index = 0\n",
    "    games = []\n",
    "    for f in files:\n",
    "        path = './cal_home_data/' + f\n",
    "        df = pd.read_csv(path)\n",
    "        df = baseball_features(df, pitcher)\n",
    "        games.append(df)\n",
    "    final_df = pd.concat(games)\n",
    "    final_df = final_df.reset_index(drop=True)\n",
    "    final_df = final_df[['Pitch Spd', 'Number_On_Base', 'Number_Runs_Allowed_diff','Pitches_Thrown', 'Hits_Allowed', 'Average_IP_diff', 'Switch_Pitcher']]\n",
    "    return final_df"
   ]
  },
  {
   "cell_type": "markdown",
   "metadata": {},
   "source": [
    "## Building of the RF"
   ]
  },
  {
   "cell_type": "code",
   "execution_count": 28,
   "metadata": {},
   "outputs": [],
   "source": [
    "#Build and Train a Pitcher Specific RF\n",
    "def train(pitcher):\n",
    "    df_test = cal_2018_pitcher_df(pitcher)\n",
    "    #edge case when no game data for given pitcher\n",
    "    if len(df_test) == 0:\n",
    "        print('No Game Data Available for' ,pitcher,)\n",
    "    else:\n",
    "        #train test split\n",
    "        X = df_test.iloc[:,0:-1]\n",
    "        Y = df_test.iloc[:,[-1]]\n",
    "        X_train, X_test, Y_train, Y_test = train_test_split(X, Y, test_size=0.25, random_state=42)\n",
    "        #train Random Forest and Predict\n",
    "        rf = RandomForestClassifier(n_estimators = 100, max_depth = 5, random_state = 42)\n",
    "        rf.fit(X_train, Y_train)\n",
    "        train_predictions = rf.predict(X_train)\n",
    "        test_predictions = rf.predict(X_test)\n",
    "        Y_train = Y_train.values.reshape(train_predictions.shape)\n",
    "        Y_test = Y_test.values.reshape(test_predictions.shape)\n",
    "        # Calculate the absolute errors\n",
    "        train_errors = abs(train_predictions - Y_train)\n",
    "        test_errors = abs(test_predictions - Y_test)\n",
    "        # Calculate and display train and test accuracy\n",
    "        train_accuracy = 100 - 100*sum(train_errors)/len(train_predictions)\n",
    "        test_accuracy = 100 - 100*sum(test_errors)/len(test_predictions)\n",
    "        print('Train Accuracy for' ,pitcher, 'is:', round(train_accuracy, 2), '%.')\n",
    "        print('Test Accuracy for' ,pitcher, 'is:', round(test_accuracy, 2), '%.')\n",
    "        print(sum(test_predictions))"
   ]
  },
  {
   "cell_type": "markdown",
   "metadata": {},
   "source": [
    "## Results"
   ]
  },
  {
   "cell_type": "code",
   "execution_count": 29,
   "metadata": {},
   "outputs": [
    {
     "name": "stderr",
     "output_type": "stream",
     "text": [
      "/Users/vincentliu1/anaconda3/envs/data-x/lib/python3.6/site-packages/ipykernel_launcher.py:14: DataConversionWarning: A column-vector y was passed when a 1d array was expected. Please change the shape of y to (n_samples,), for example using ravel().\n",
      "  \n"
     ]
    },
    {
     "name": "stdout",
     "output_type": "stream",
     "text": [
      "Train Accuracy for Aaron Shortridge is: 95.55 %.\n",
      "Test Accuracy for Aaron Shortridge is: 92.04 %.\n",
      "2\n"
     ]
    },
    {
     "name": "stderr",
     "output_type": "stream",
     "text": [
      "/Users/vincentliu1/anaconda3/envs/data-x/lib/python3.6/site-packages/ipykernel_launcher.py:14: DataConversionWarning: A column-vector y was passed when a 1d array was expected. Please change the shape of y to (n_samples,), for example using ravel().\n",
      "  \n"
     ]
    },
    {
     "name": "stdout",
     "output_type": "stream",
     "text": [
      "Train Accuracy for Matt Ladrech is: 95.8 %.\n",
      "Test Accuracy for Matt Ladrech is: 88.98 %.\n",
      "2\n"
     ]
    },
    {
     "name": "stderr",
     "output_type": "stream",
     "text": [
      "/Users/vincentliu1/anaconda3/envs/data-x/lib/python3.6/site-packages/ipykernel_launcher.py:14: DataConversionWarning: A column-vector y was passed when a 1d array was expected. Please change the shape of y to (n_samples,), for example using ravel().\n",
      "  \n"
     ]
    },
    {
     "name": "stdout",
     "output_type": "stream",
     "text": [
      "Train Accuracy for Jared Horn is: 94.56 %.\n",
      "Test Accuracy for Jared Horn is: 93.66 %.\n",
      "0\n"
     ]
    },
    {
     "name": "stderr",
     "output_type": "stream",
     "text": [
      "/Users/vincentliu1/anaconda3/envs/data-x/lib/python3.6/site-packages/ipykernel_launcher.py:14: DataConversionWarning: A column-vector y was passed when a 1d array was expected. Please change the shape of y to (n_samples,), for example using ravel().\n",
      "  \n"
     ]
    },
    {
     "name": "stdout",
     "output_type": "stream",
     "text": [
      "Train Accuracy for Joey Matulovich is: 96.5 %.\n",
      "Test Accuracy for Joey Matulovich is: 93.06 %.\n",
      "0\n"
     ]
    },
    {
     "name": "stderr",
     "output_type": "stream",
     "text": [
      "/Users/vincentliu1/anaconda3/envs/data-x/lib/python3.6/site-packages/ipykernel_launcher.py:14: DataConversionWarning: A column-vector y was passed when a 1d array was expected. Please change the shape of y to (n_samples,), for example using ravel().\n",
      "  \n"
     ]
    },
    {
     "name": "stdout",
     "output_type": "stream",
     "text": [
      "Train Accuracy for Arman Sabouri is: 94.74 %.\n",
      "Test Accuracy for Arman Sabouri is: 90.35 %.\n",
      "0\n"
     ]
    },
    {
     "name": "stderr",
     "output_type": "stream",
     "text": [
      "/Users/vincentliu1/anaconda3/envs/data-x/lib/python3.6/site-packages/ipykernel_launcher.py:14: DataConversionWarning: A column-vector y was passed when a 1d array was expected. Please change the shape of y to (n_samples,), for example using ravel().\n",
      "  \n"
     ]
    },
    {
     "name": "stdout",
     "output_type": "stream",
     "text": [
      "Train Accuracy for Tanner Dodson is: 97.09 %.\n",
      "Test Accuracy for Tanner Dodson is: 95.65 %.\n",
      "0\n"
     ]
    },
    {
     "name": "stderr",
     "output_type": "stream",
     "text": [
      "/Users/vincentliu1/anaconda3/envs/data-x/lib/python3.6/site-packages/ipykernel_launcher.py:14: DataConversionWarning: A column-vector y was passed when a 1d array was expected. Please change the shape of y to (n_samples,), for example using ravel().\n",
      "  \n"
     ]
    },
    {
     "name": "stdout",
     "output_type": "stream",
     "text": [
      "Train Accuracy for Rogelio Reyes is: 94.95 %.\n",
      "Test Accuracy for Rogelio Reyes is: 91.92 %.\n",
      "1\n"
     ]
    },
    {
     "name": "stderr",
     "output_type": "stream",
     "text": [
      "/Users/vincentliu1/anaconda3/envs/data-x/lib/python3.6/site-packages/ipykernel_launcher.py:14: DataConversionWarning: A column-vector y was passed when a 1d array was expected. Please change the shape of y to (n_samples,), for example using ravel().\n",
      "  \n"
     ]
    },
    {
     "name": "stdout",
     "output_type": "stream",
     "text": [
      "Train Accuracy for Zayne Patino is: 94.92 %.\n",
      "Test Accuracy for Zayne Patino is: 93.67 %.\n",
      "0\n"
     ]
    },
    {
     "name": "stderr",
     "output_type": "stream",
     "text": [
      "/Users/vincentliu1/anaconda3/envs/data-x/lib/python3.6/site-packages/ipykernel_launcher.py:14: DataConversionWarning: A column-vector y was passed when a 1d array was expected. Please change the shape of y to (n_samples,), for example using ravel().\n",
      "  \n"
     ]
    },
    {
     "name": "stdout",
     "output_type": "stream",
     "text": [
      "Train Accuracy for Erik Martinez is: 96.02 %.\n",
      "Test Accuracy for Erik Martinez is: 98.31 %.\n",
      "0\n"
     ]
    },
    {
     "name": "stderr",
     "output_type": "stream",
     "text": [
      "/Users/vincentliu1/anaconda3/envs/data-x/lib/python3.6/site-packages/ipykernel_launcher.py:14: DataConversionWarning: A column-vector y was passed when a 1d array was expected. Please change the shape of y to (n_samples,), for example using ravel().\n",
      "  \n"
     ]
    },
    {
     "name": "stdout",
     "output_type": "stream",
     "text": [
      "Train Accuracy for Andrew Buckley is: 98.27 %.\n",
      "Test Accuracy for Andrew Buckley is: 96.55 %.\n",
      "1\n"
     ]
    },
    {
     "name": "stderr",
     "output_type": "stream",
     "text": [
      "/Users/vincentliu1/anaconda3/envs/data-x/lib/python3.6/site-packages/ipykernel_launcher.py:14: DataConversionWarning: A column-vector y was passed when a 1d array was expected. Please change the shape of y to (n_samples,), for example using ravel().\n",
      "  \n"
     ]
    },
    {
     "name": "stdout",
     "output_type": "stream",
     "text": [
      "Train Accuracy for Carson Olson is: 100.0 %.\n",
      "Test Accuracy for Carson Olson is: 100.0 %.\n",
      "0\n"
     ]
    },
    {
     "name": "stderr",
     "output_type": "stream",
     "text": [
      "/Users/vincentliu1/anaconda3/envs/data-x/lib/python3.6/site-packages/ipykernel_launcher.py:14: DataConversionWarning: A column-vector y was passed when a 1d array was expected. Please change the shape of y to (n_samples,), for example using ravel().\n",
      "  \n"
     ]
    },
    {
     "name": "stdout",
     "output_type": "stream",
     "text": [
      "Train Accuracy for Kevin Flemer is: 100.0 %.\n",
      "Test Accuracy for Kevin Flemer is: 100.0 %.\n",
      "0\n"
     ]
    },
    {
     "name": "stderr",
     "output_type": "stream",
     "text": [
      "/Users/vincentliu1/anaconda3/envs/data-x/lib/python3.6/site-packages/ipykernel_launcher.py:14: DataConversionWarning: A column-vector y was passed when a 1d array was expected. Please change the shape of y to (n_samples,), for example using ravel().\n",
      "  \n"
     ]
    },
    {
     "name": "stdout",
     "output_type": "stream",
     "text": [
      "Train Accuracy for Conor Neumann is: 100.0 %.\n",
      "Test Accuracy for Conor Neumann is: 100.0 %.\n",
      "0\n"
     ]
    },
    {
     "name": "stderr",
     "output_type": "stream",
     "text": [
      "/Users/vincentliu1/anaconda3/envs/data-x/lib/python3.6/site-packages/ipykernel_launcher.py:14: DataConversionWarning: A column-vector y was passed when a 1d array was expected. Please change the shape of y to (n_samples,), for example using ravel().\n",
      "  \n"
     ]
    },
    {
     "name": "stdout",
     "output_type": "stream",
     "text": [
      "Train Accuracy for Korey Lee is: 100.0 %.\n",
      "Test Accuracy for Korey Lee is: 100.0 %.\n",
      "0\n"
     ]
    },
    {
     "name": "stderr",
     "output_type": "stream",
     "text": [
      "/Users/vincentliu1/anaconda3/envs/data-x/lib/python3.6/site-packages/ipykernel_launcher.py:14: DataConversionWarning: A column-vector y was passed when a 1d array was expected. Please change the shape of y to (n_samples,), for example using ravel().\n",
      "  \n"
     ]
    },
    {
     "name": "stdout",
     "output_type": "stream",
     "text": [
      "Train Accuracy for Connor Jackson is: 100.0 %.\n",
      "Test Accuracy for Connor Jackson is: 100.0 %.\n",
      "0\n",
      "No Game Data Available for Andrew Vaughn\n",
      "No Game Data Available for Reuben Drogin\n"
     ]
    }
   ],
   "source": [
    "for pitcher in cal_pitchers.Player:\n",
    "    train(pitcher)\n",
    "#     train_score = rf.score(X_train, Y_train)\n",
    "#     test_score = rf.score(X_test, Y_test)\n",
    "#     print ('For pitcher' ,pitcher,'the score for the training set was:' ,train_score,)\n",
    "#     print ('For pitcher' ,pitcher,'the score for the test set was:' ,test_score,)\n",
    "# train('Jared Horn')"
   ]
  },
  {
   "cell_type": "code",
   "execution_count": 30,
   "metadata": {},
   "outputs": [
    {
     "name": "stdout",
     "output_type": "stream",
     "text": [
      "Accuracy: 88.98 %.\n"
     ]
    },
    {
     "name": "stderr",
     "output_type": "stream",
     "text": [
      "/Users/vincentliu1/anaconda3/envs/data-x/lib/python3.6/site-packages/ipykernel_launcher.py:6: DataConversionWarning: A column-vector y was passed when a 1d array was expected. Please change the shape of y to (n_samples,), for example using ravel().\n",
      "  \n"
     ]
    }
   ],
   "source": [
    "df_test = cal_2018_pitcher_df('Matt Ladrech')\n",
    "X = df_test.iloc[:,0:-1]\n",
    "Y = df_test.iloc[:,[-1]]\n",
    "X_train, X_test, Y_train, Y_test = train_test_split(X, Y, test_size=0.25, random_state=42)\n",
    "rf = RandomForestClassifier(n_estimators = 100, max_depth = 5, random_state = 42)\n",
    "rf.fit(X_train, Y_train)\n",
    "predictions = rf.predict(X_test)\n",
    "Y_test = Y_test.values.reshape(predictions.shape)\n",
    "# Calculate the absolute errors\n",
    "errors = abs(predictions - Y_test)\n",
    "# Calculate and display accuracy\n",
    "accuracy = 100 - 100*sum(errors)/len(predictions)\n",
    "print('Accuracy:', round(accuracy, 2), '%.')"
   ]
  },
  {
   "cell_type": "code",
   "execution_count": 31,
   "metadata": {},
   "outputs": [
    {
     "data": {
      "text/plain": [
       "array([0, 0, 1, 0, 1, 0, 0, 0, 0, 1, 0, 0, 0, 0, 1, 0, 0, 0, 0, 0, 0, 0,\n",
       "       0, 1, 0, 0, 0, 0, 0, 0, 0, 0, 0, 0, 0, 0, 0, 0, 0, 0, 0, 0, 0, 0,\n",
       "       0, 1, 0, 0, 0, 0, 0, 0, 0, 0, 0, 0, 0, 0, 1, 0, 0, 0, 0, 0, 0, 0,\n",
       "       0, 1, 0, 0, 0, 1, 0, 0, 0, 0, 0, 0, 0, 0, 0, 0, 0, 1, 0, 0, 0, 0,\n",
       "       0, 0, 0, 0, 0, 0, 1, 0, 0, 0, 0, 0, 0, 0, 0, 0, 0, 0, 0, 0, 0, 0,\n",
       "       0, 0, 0, 1, 0, 0, 0, 0, 0, 0, 0, 0, 0, 0, 0, 0, 0])"
      ]
     },
     "execution_count": 31,
     "metadata": {},
     "output_type": "execute_result"
    }
   ],
   "source": [
    "Y_test"
   ]
  },
  {
   "cell_type": "code",
   "execution_count": 32,
   "metadata": {},
   "outputs": [
    {
     "data": {
      "text/plain": [
       "array([0, 0, 0, 0, 0, 0, 0, 0, 0, 0, 0, 0, 0, 0, 0, 0, 0, 0, 0, 0, 0, 0,\n",
       "       0, 0, 0, 0, 0, 0, 0, 0, 0, 0, 0, 0, 0, 0, 0, 1, 0, 0, 0, 0, 0, 0,\n",
       "       0, 0, 0, 0, 0, 0, 0, 0, 0, 0, 0, 0, 0, 0, 0, 0, 0, 0, 0, 0, 0, 0,\n",
       "       0, 0, 0, 0, 0, 0, 0, 0, 0, 0, 0, 0, 0, 0, 0, 0, 0, 0, 0, 0, 0, 0,\n",
       "       0, 0, 0, 0, 0, 0, 0, 0, 0, 0, 0, 0, 1, 0, 0, 0, 0, 0, 0, 0, 0, 0,\n",
       "       0, 0, 0, 0, 0, 0, 0, 0, 0, 0, 0, 0, 0, 0, 0, 0, 0])"
      ]
     },
     "execution_count": 32,
     "metadata": {},
     "output_type": "execute_result"
    }
   ],
   "source": [
    "predictions"
   ]
  },
  {
   "cell_type": "markdown",
   "metadata": {},
   "source": [
    "## Visualization"
   ]
  },
  {
   "cell_type": "code",
   "execution_count": 21,
   "metadata": {},
   "outputs": [],
   "source": [
    "# Import tools needed for visualization\n",
    "from sklearn.tree import export_graphviz\n",
    "import pydot\n",
    "# Pull out one tree from the forest\n",
    "tree = rf.estimators_[5]\n",
    "feature_list = ['Pitch Spd', 'Number_On_Base', 'Number_Runs_Allowed_diff','Pitches_Thrown', 'Hits_Allowed', 'Average_IP_diff']\n",
    "# Import tools needed for visualization\n",
    "from sklearn.tree import export_graphviz\n",
    "import pydot\n",
    "# Pull out one tree from the forest\n",
    "tree = rf.estimators_[5]\n",
    "# Export the image to a dot file\n",
    "export_graphviz(tree, out_file = 'tree.dot', feature_names = feature_list, rounded = True, precision = 1)\n",
    "# Use dot file to create a graph\n",
    "(graph, ) = pydot.graph_from_dot_file('tree.dot')\n",
    "# Write graph to a png file\n",
    "graph.write_png('tree.png')"
   ]
  },
  {
   "cell_type": "code",
   "execution_count": 24,
   "metadata": {},
   "outputs": [
    {
     "data": {
      "text/plain": [
       "DecisionTreeClassifier(class_weight=None, criterion='gini', max_depth=5,\n",
       "            max_features='auto', max_leaf_nodes=None,\n",
       "            min_impurity_decrease=0.0, min_impurity_split=None,\n",
       "            min_samples_leaf=1, min_samples_split=2,\n",
       "            min_weight_fraction_leaf=0.0, presort=False,\n",
       "            random_state=1201263687, splitter='best')"
      ]
     },
     "execution_count": 24,
     "metadata": {},
     "output_type": "execute_result"
    }
   ],
   "source": [
    "rf.estimators_[5]"
   ]
  },
  {
   "cell_type": "code",
   "execution_count": null,
   "metadata": {},
   "outputs": [],
   "source": []
  }
 ],
 "metadata": {
  "kernelspec": {
   "display_name": "Python 3",
   "language": "python",
   "name": "python3"
  },
  "language_info": {
   "codemirror_mode": {
    "name": "ipython",
    "version": 3
   },
   "file_extension": ".py",
   "mimetype": "text/x-python",
   "name": "python",
   "nbconvert_exporter": "python",
   "pygments_lexer": "ipython3",
   "version": "3.6.5"
  }
 },
 "nbformat": 4,
 "nbformat_minor": 2
}
